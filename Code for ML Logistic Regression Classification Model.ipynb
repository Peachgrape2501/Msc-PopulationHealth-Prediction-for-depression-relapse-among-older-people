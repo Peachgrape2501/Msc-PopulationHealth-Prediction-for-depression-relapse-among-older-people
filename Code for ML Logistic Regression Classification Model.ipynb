{
 "cells": [
  {
   "cell_type": "code",
   "execution_count": 1,
   "id": "76689afa",
   "metadata": {},
   "outputs": [],
   "source": [
    "import pandas as pd\n",
    "import numpy as np\n",
    "from sklearn.preprocessing import OneHotEncoder, LabelEncoder, StandardScaler\n",
    "from sklearn.model_selection import train_test_split, learning_curve\n",
    "from sklearn.linear_model import LogisticRegression\n",
    "from sklearn import metrics\n",
    "from sklearn.metrics import classification_report, accuracy_score, confusion_matrix, precision_recall_fscore_support, precision_score, recall_score\n",
    "import matplotlib.pyplot as plt\n",
    "import seaborn as sns\n",
    "%matplotlib inline\n",
    "from sklearn.metrics import precision_recall_fscore_support,confusion_matrix,accuracy_score,roc_auc_score\n",
    "from sklearn.preprocessing import label_binarize"
   ]
  },
  {
   "cell_type": "code",
   "execution_count": 2,
   "id": "36ae7b44",
   "metadata": {},
   "outputs": [
    {
     "data": {
      "text/html": [
       "<div>\n",
       "<style scoped>\n",
       "    .dataframe tbody tr th:only-of-type {\n",
       "        vertical-align: middle;\n",
       "    }\n",
       "\n",
       "    .dataframe tbody tr th {\n",
       "        vertical-align: top;\n",
       "    }\n",
       "\n",
       "    .dataframe thead th {\n",
       "        text-align: right;\n",
       "    }\n",
       "</style>\n",
       "<table border=\"1\" class=\"dataframe\">\n",
       "  <thead>\n",
       "    <tr style=\"text-align: right;\">\n",
       "      <th></th>\n",
       "      <th>cmb_1</th>\n",
       "      <th>cmb_2</th>\n",
       "      <th>cmb_3</th>\n",
       "      <th>cmb_4</th>\n",
       "      <th>cmb_5</th>\n",
       "      <th>cmb_6</th>\n",
       "      <th>cmb_7</th>\n",
       "      <th>cmb_8</th>\n",
       "      <th>cmb_9</th>\n",
       "      <th>presc_index_value</th>\n",
       "      <th>sex</th>\n",
       "      <th>age_cat_2008</th>\n",
       "      <th>smoke</th>\n",
       "      <th>townsend_num</th>\n",
       "      <th>PC_event</th>\n",
       "      <th>antidepressants_binary</th>\n",
       "      <th>bmicat</th>\n",
       "      <th>sbpcat</th>\n",
       "      <th>RDDcat1</th>\n",
       "      <th>relapse_bin</th>\n",
       "    </tr>\n",
       "  </thead>\n",
       "  <tbody>\n",
       "    <tr>\n",
       "      <th>0</th>\n",
       "      <td>0</td>\n",
       "      <td>0</td>\n",
       "      <td>1</td>\n",
       "      <td>0</td>\n",
       "      <td>0</td>\n",
       "      <td>0</td>\n",
       "      <td>0</td>\n",
       "      <td>0</td>\n",
       "      <td>0</td>\n",
       "      <td>1</td>\n",
       "      <td>2</td>\n",
       "      <td>1</td>\n",
       "      <td>1</td>\n",
       "      <td>2</td>\n",
       "      <td>0</td>\n",
       "      <td>1</td>\n",
       "      <td>3</td>\n",
       "      <td>1</td>\n",
       "      <td>3</td>\n",
       "      <td>1</td>\n",
       "    </tr>\n",
       "    <tr>\n",
       "      <th>1</th>\n",
       "      <td>0</td>\n",
       "      <td>0</td>\n",
       "      <td>1</td>\n",
       "      <td>0</td>\n",
       "      <td>0</td>\n",
       "      <td>0</td>\n",
       "      <td>0</td>\n",
       "      <td>1</td>\n",
       "      <td>0</td>\n",
       "      <td>4</td>\n",
       "      <td>2</td>\n",
       "      <td>1</td>\n",
       "      <td>1</td>\n",
       "      <td>4</td>\n",
       "      <td>0</td>\n",
       "      <td>1</td>\n",
       "      <td>3</td>\n",
       "      <td>2</td>\n",
       "      <td>3</td>\n",
       "      <td>1</td>\n",
       "    </tr>\n",
       "    <tr>\n",
       "      <th>2</th>\n",
       "      <td>0</td>\n",
       "      <td>0</td>\n",
       "      <td>0</td>\n",
       "      <td>1</td>\n",
       "      <td>0</td>\n",
       "      <td>1</td>\n",
       "      <td>1</td>\n",
       "      <td>1</td>\n",
       "      <td>0</td>\n",
       "      <td>5</td>\n",
       "      <td>1</td>\n",
       "      <td>1</td>\n",
       "      <td>1</td>\n",
       "      <td>3</td>\n",
       "      <td>0</td>\n",
       "      <td>1</td>\n",
       "      <td>2</td>\n",
       "      <td>1</td>\n",
       "      <td>2</td>\n",
       "      <td>1</td>\n",
       "    </tr>\n",
       "    <tr>\n",
       "      <th>3</th>\n",
       "      <td>0</td>\n",
       "      <td>0</td>\n",
       "      <td>0</td>\n",
       "      <td>0</td>\n",
       "      <td>0</td>\n",
       "      <td>0</td>\n",
       "      <td>1</td>\n",
       "      <td>0</td>\n",
       "      <td>0</td>\n",
       "      <td>3</td>\n",
       "      <td>2</td>\n",
       "      <td>3</td>\n",
       "      <td>1</td>\n",
       "      <td>4</td>\n",
       "      <td>0</td>\n",
       "      <td>1</td>\n",
       "      <td>1</td>\n",
       "      <td>2</td>\n",
       "      <td>1</td>\n",
       "      <td>1</td>\n",
       "    </tr>\n",
       "    <tr>\n",
       "      <th>4</th>\n",
       "      <td>0</td>\n",
       "      <td>0</td>\n",
       "      <td>0</td>\n",
       "      <td>0</td>\n",
       "      <td>1</td>\n",
       "      <td>0</td>\n",
       "      <td>0</td>\n",
       "      <td>0</td>\n",
       "      <td>0</td>\n",
       "      <td>1</td>\n",
       "      <td>2</td>\n",
       "      <td>1</td>\n",
       "      <td>1</td>\n",
       "      <td>3</td>\n",
       "      <td>0</td>\n",
       "      <td>1</td>\n",
       "      <td>3</td>\n",
       "      <td>1</td>\n",
       "      <td>1</td>\n",
       "      <td>1</td>\n",
       "    </tr>\n",
       "  </tbody>\n",
       "</table>\n",
       "</div>"
      ],
      "text/plain": [
       "   cmb_1  cmb_2  cmb_3  cmb_4  cmb_5  cmb_6  cmb_7  cmb_8  cmb_9  \\\n",
       "0      0      0      1      0      0      0      0      0      0   \n",
       "1      0      0      1      0      0      0      0      1      0   \n",
       "2      0      0      0      1      0      1      1      1      0   \n",
       "3      0      0      0      0      0      0      1      0      0   \n",
       "4      0      0      0      0      1      0      0      0      0   \n",
       "\n",
       "   presc_index_value  sex  age_cat_2008  smoke  townsend_num  PC_event  \\\n",
       "0                  1    2             1      1             2         0   \n",
       "1                  4    2             1      1             4         0   \n",
       "2                  5    1             1      1             3         0   \n",
       "3                  3    2             3      1             4         0   \n",
       "4                  1    2             1      1             3         0   \n",
       "\n",
       "   antidepressants_binary  bmicat  sbpcat  RDDcat1  relapse_bin  \n",
       "0                       1       3       1        3            1  \n",
       "1                       1       3       2        3            1  \n",
       "2                       1       2       1        2            1  \n",
       "3                       1       1       2        1            1  \n",
       "4                       1       3       1        1            1  "
      ]
     },
     "execution_count": 2,
     "metadata": {},
     "output_type": "execute_result"
    }
   ],
   "source": [
    "df = pd.read_csv(\"dep4.csv\")\n",
    "\n",
    "df.head(5)"
   ]
  },
  {
   "cell_type": "code",
   "execution_count": 3,
   "id": "9674126d",
   "metadata": {},
   "outputs": [
    {
     "name": "stdout",
     "output_type": "stream",
     "text": [
      "<class 'pandas.core.frame.DataFrame'>\n",
      "RangeIndex: 32249 entries, 0 to 32248\n",
      "Data columns (total 20 columns):\n",
      " #   Column                  Non-Null Count  Dtype\n",
      "---  ------                  --------------  -----\n",
      " 0   cmb_1                   32249 non-null  int64\n",
      " 1   cmb_2                   32249 non-null  int64\n",
      " 2   cmb_3                   32249 non-null  int64\n",
      " 3   cmb_4                   32249 non-null  int64\n",
      " 4   cmb_5                   32249 non-null  int64\n",
      " 5   cmb_6                   32249 non-null  int64\n",
      " 6   cmb_7                   32249 non-null  int64\n",
      " 7   cmb_8                   32249 non-null  int64\n",
      " 8   cmb_9                   32249 non-null  int64\n",
      " 9   presc_index_value       32249 non-null  int64\n",
      " 10  sex                     32249 non-null  int64\n",
      " 11  age_cat_2008            32249 non-null  int64\n",
      " 12  smoke                   32249 non-null  int64\n",
      " 13  townsend_num            32249 non-null  int64\n",
      " 14  PC_event                32249 non-null  int64\n",
      " 15  antidepressants_binary  32249 non-null  int64\n",
      " 16  bmicat                  32249 non-null  int64\n",
      " 17  sbpcat                  32249 non-null  int64\n",
      " 18  RDDcat1                 32249 non-null  int64\n",
      " 19  relapse_bin             32249 non-null  int64\n",
      "dtypes: int64(20)\n",
      "memory usage: 4.9 MB\n"
     ]
    }
   ],
   "source": [
    "df.info()"
   ]
  },
  {
   "cell_type": "code",
   "execution_count": 4,
   "id": "c8c68446",
   "metadata": {},
   "outputs": [
    {
     "data": {
      "text/html": [
       "<div>\n",
       "<style scoped>\n",
       "    .dataframe tbody tr th:only-of-type {\n",
       "        vertical-align: middle;\n",
       "    }\n",
       "\n",
       "    .dataframe tbody tr th {\n",
       "        vertical-align: top;\n",
       "    }\n",
       "\n",
       "    .dataframe thead th {\n",
       "        text-align: right;\n",
       "    }\n",
       "</style>\n",
       "<table border=\"1\" class=\"dataframe\">\n",
       "  <thead>\n",
       "    <tr style=\"text-align: right;\">\n",
       "      <th></th>\n",
       "      <th>cmb_1</th>\n",
       "      <th>cmb_2</th>\n",
       "      <th>cmb_3</th>\n",
       "      <th>cmb_4</th>\n",
       "      <th>cmb_5</th>\n",
       "      <th>cmb_6</th>\n",
       "      <th>cmb_7</th>\n",
       "      <th>cmb_8</th>\n",
       "      <th>cmb_9</th>\n",
       "      <th>presc_index_value</th>\n",
       "      <th>sex</th>\n",
       "      <th>age_cat_2008</th>\n",
       "      <th>smoke</th>\n",
       "      <th>townsend_num</th>\n",
       "      <th>PC_event</th>\n",
       "      <th>antidepressants_binary</th>\n",
       "      <th>bmicat</th>\n",
       "      <th>sbpcat</th>\n",
       "      <th>RDDcat1</th>\n",
       "      <th>relapse_bin</th>\n",
       "    </tr>\n",
       "  </thead>\n",
       "  <tbody>\n",
       "    <tr>\n",
       "      <th>count</th>\n",
       "      <td>32249.000000</td>\n",
       "      <td>32249.000000</td>\n",
       "      <td>32249.000000</td>\n",
       "      <td>32249.000000</td>\n",
       "      <td>32249.000000</td>\n",
       "      <td>32249.000000</td>\n",
       "      <td>32249.000000</td>\n",
       "      <td>32249.000000</td>\n",
       "      <td>32249.000000</td>\n",
       "      <td>32249.000000</td>\n",
       "      <td>32249.000000</td>\n",
       "      <td>32249.000000</td>\n",
       "      <td>32249.000000</td>\n",
       "      <td>32249.000000</td>\n",
       "      <td>32249.000000</td>\n",
       "      <td>32249.000000</td>\n",
       "      <td>32249.000000</td>\n",
       "      <td>32249.000000</td>\n",
       "      <td>32249.000000</td>\n",
       "      <td>32249.000000</td>\n",
       "    </tr>\n",
       "    <tr>\n",
       "      <th>mean</th>\n",
       "      <td>0.117771</td>\n",
       "      <td>0.245031</td>\n",
       "      <td>0.262055</td>\n",
       "      <td>0.105802</td>\n",
       "      <td>0.145958</td>\n",
       "      <td>0.122670</td>\n",
       "      <td>0.126919</td>\n",
       "      <td>0.171633</td>\n",
       "      <td>0.007411</td>\n",
       "      <td>2.859748</td>\n",
       "      <td>1.514280</td>\n",
       "      <td>3.022512</td>\n",
       "      <td>1.776861</td>\n",
       "      <td>2.770505</td>\n",
       "      <td>0.065645</td>\n",
       "      <td>0.695277</td>\n",
       "      <td>2.033737</td>\n",
       "      <td>1.444138</td>\n",
       "      <td>1.200037</td>\n",
       "      <td>0.215604</td>\n",
       "    </tr>\n",
       "    <tr>\n",
       "      <th>std</th>\n",
       "      <td>0.322342</td>\n",
       "      <td>0.430112</td>\n",
       "      <td>0.439759</td>\n",
       "      <td>0.307588</td>\n",
       "      <td>0.353070</td>\n",
       "      <td>0.328064</td>\n",
       "      <td>0.332887</td>\n",
       "      <td>0.377067</td>\n",
       "      <td>0.085769</td>\n",
       "      <td>2.257699</td>\n",
       "      <td>0.499804</td>\n",
       "      <td>2.108179</td>\n",
       "      <td>0.796729</td>\n",
       "      <td>1.350856</td>\n",
       "      <td>0.247665</td>\n",
       "      <td>0.460297</td>\n",
       "      <td>0.791124</td>\n",
       "      <td>0.496877</td>\n",
       "      <td>0.538074</td>\n",
       "      <td>0.411247</td>\n",
       "    </tr>\n",
       "    <tr>\n",
       "      <th>min</th>\n",
       "      <td>0.000000</td>\n",
       "      <td>0.000000</td>\n",
       "      <td>0.000000</td>\n",
       "      <td>0.000000</td>\n",
       "      <td>0.000000</td>\n",
       "      <td>0.000000</td>\n",
       "      <td>0.000000</td>\n",
       "      <td>0.000000</td>\n",
       "      <td>0.000000</td>\n",
       "      <td>0.000000</td>\n",
       "      <td>1.000000</td>\n",
       "      <td>1.000000</td>\n",
       "      <td>1.000000</td>\n",
       "      <td>1.000000</td>\n",
       "      <td>0.000000</td>\n",
       "      <td>0.000000</td>\n",
       "      <td>1.000000</td>\n",
       "      <td>1.000000</td>\n",
       "      <td>1.000000</td>\n",
       "      <td>0.000000</td>\n",
       "    </tr>\n",
       "    <tr>\n",
       "      <th>25%</th>\n",
       "      <td>0.000000</td>\n",
       "      <td>0.000000</td>\n",
       "      <td>0.000000</td>\n",
       "      <td>0.000000</td>\n",
       "      <td>0.000000</td>\n",
       "      <td>0.000000</td>\n",
       "      <td>0.000000</td>\n",
       "      <td>0.000000</td>\n",
       "      <td>0.000000</td>\n",
       "      <td>1.000000</td>\n",
       "      <td>1.000000</td>\n",
       "      <td>1.000000</td>\n",
       "      <td>1.000000</td>\n",
       "      <td>2.000000</td>\n",
       "      <td>0.000000</td>\n",
       "      <td>0.000000</td>\n",
       "      <td>1.000000</td>\n",
       "      <td>1.000000</td>\n",
       "      <td>1.000000</td>\n",
       "      <td>0.000000</td>\n",
       "    </tr>\n",
       "    <tr>\n",
       "      <th>50%</th>\n",
       "      <td>0.000000</td>\n",
       "      <td>0.000000</td>\n",
       "      <td>0.000000</td>\n",
       "      <td>0.000000</td>\n",
       "      <td>0.000000</td>\n",
       "      <td>0.000000</td>\n",
       "      <td>0.000000</td>\n",
       "      <td>0.000000</td>\n",
       "      <td>0.000000</td>\n",
       "      <td>2.000000</td>\n",
       "      <td>2.000000</td>\n",
       "      <td>2.000000</td>\n",
       "      <td>2.000000</td>\n",
       "      <td>3.000000</td>\n",
       "      <td>0.000000</td>\n",
       "      <td>1.000000</td>\n",
       "      <td>2.000000</td>\n",
       "      <td>1.000000</td>\n",
       "      <td>1.000000</td>\n",
       "      <td>0.000000</td>\n",
       "    </tr>\n",
       "    <tr>\n",
       "      <th>75%</th>\n",
       "      <td>0.000000</td>\n",
       "      <td>0.000000</td>\n",
       "      <td>1.000000</td>\n",
       "      <td>0.000000</td>\n",
       "      <td>0.000000</td>\n",
       "      <td>0.000000</td>\n",
       "      <td>0.000000</td>\n",
       "      <td>0.000000</td>\n",
       "      <td>0.000000</td>\n",
       "      <td>4.000000</td>\n",
       "      <td>2.000000</td>\n",
       "      <td>5.000000</td>\n",
       "      <td>2.000000</td>\n",
       "      <td>4.000000</td>\n",
       "      <td>0.000000</td>\n",
       "      <td>1.000000</td>\n",
       "      <td>3.000000</td>\n",
       "      <td>2.000000</td>\n",
       "      <td>1.000000</td>\n",
       "      <td>0.000000</td>\n",
       "    </tr>\n",
       "    <tr>\n",
       "      <th>max</th>\n",
       "      <td>1.000000</td>\n",
       "      <td>1.000000</td>\n",
       "      <td>1.000000</td>\n",
       "      <td>1.000000</td>\n",
       "      <td>1.000000</td>\n",
       "      <td>1.000000</td>\n",
       "      <td>1.000000</td>\n",
       "      <td>1.000000</td>\n",
       "      <td>1.000000</td>\n",
       "      <td>26.000000</td>\n",
       "      <td>2.000000</td>\n",
       "      <td>10.000000</td>\n",
       "      <td>3.000000</td>\n",
       "      <td>5.000000</td>\n",
       "      <td>1.000000</td>\n",
       "      <td>1.000000</td>\n",
       "      <td>3.000000</td>\n",
       "      <td>2.000000</td>\n",
       "      <td>3.000000</td>\n",
       "      <td>1.000000</td>\n",
       "    </tr>\n",
       "  </tbody>\n",
       "</table>\n",
       "</div>"
      ],
      "text/plain": [
       "              cmb_1         cmb_2         cmb_3         cmb_4         cmb_5  \\\n",
       "count  32249.000000  32249.000000  32249.000000  32249.000000  32249.000000   \n",
       "mean       0.117771      0.245031      0.262055      0.105802      0.145958   \n",
       "std        0.322342      0.430112      0.439759      0.307588      0.353070   \n",
       "min        0.000000      0.000000      0.000000      0.000000      0.000000   \n",
       "25%        0.000000      0.000000      0.000000      0.000000      0.000000   \n",
       "50%        0.000000      0.000000      0.000000      0.000000      0.000000   \n",
       "75%        0.000000      0.000000      1.000000      0.000000      0.000000   \n",
       "max        1.000000      1.000000      1.000000      1.000000      1.000000   \n",
       "\n",
       "              cmb_6         cmb_7         cmb_8         cmb_9  \\\n",
       "count  32249.000000  32249.000000  32249.000000  32249.000000   \n",
       "mean       0.122670      0.126919      0.171633      0.007411   \n",
       "std        0.328064      0.332887      0.377067      0.085769   \n",
       "min        0.000000      0.000000      0.000000      0.000000   \n",
       "25%        0.000000      0.000000      0.000000      0.000000   \n",
       "50%        0.000000      0.000000      0.000000      0.000000   \n",
       "75%        0.000000      0.000000      0.000000      0.000000   \n",
       "max        1.000000      1.000000      1.000000      1.000000   \n",
       "\n",
       "       presc_index_value           sex  age_cat_2008         smoke  \\\n",
       "count       32249.000000  32249.000000  32249.000000  32249.000000   \n",
       "mean            2.859748      1.514280      3.022512      1.776861   \n",
       "std             2.257699      0.499804      2.108179      0.796729   \n",
       "min             0.000000      1.000000      1.000000      1.000000   \n",
       "25%             1.000000      1.000000      1.000000      1.000000   \n",
       "50%             2.000000      2.000000      2.000000      2.000000   \n",
       "75%             4.000000      2.000000      5.000000      2.000000   \n",
       "max            26.000000      2.000000     10.000000      3.000000   \n",
       "\n",
       "       townsend_num      PC_event  antidepressants_binary        bmicat  \\\n",
       "count  32249.000000  32249.000000            32249.000000  32249.000000   \n",
       "mean       2.770505      0.065645                0.695277      2.033737   \n",
       "std        1.350856      0.247665                0.460297      0.791124   \n",
       "min        1.000000      0.000000                0.000000      1.000000   \n",
       "25%        2.000000      0.000000                0.000000      1.000000   \n",
       "50%        3.000000      0.000000                1.000000      2.000000   \n",
       "75%        4.000000      0.000000                1.000000      3.000000   \n",
       "max        5.000000      1.000000                1.000000      3.000000   \n",
       "\n",
       "             sbpcat       RDDcat1   relapse_bin  \n",
       "count  32249.000000  32249.000000  32249.000000  \n",
       "mean       1.444138      1.200037      0.215604  \n",
       "std        0.496877      0.538074      0.411247  \n",
       "min        1.000000      1.000000      0.000000  \n",
       "25%        1.000000      1.000000      0.000000  \n",
       "50%        1.000000      1.000000      0.000000  \n",
       "75%        2.000000      1.000000      0.000000  \n",
       "max        2.000000      3.000000      1.000000  "
      ]
     },
     "execution_count": 4,
     "metadata": {},
     "output_type": "execute_result"
    }
   ],
   "source": [
    "df.describe()"
   ]
  },
  {
   "cell_type": "code",
   "execution_count": 5,
   "id": "9fb28d41",
   "metadata": {},
   "outputs": [
    {
     "data": {
      "text/html": [
       "<div>\n",
       "<style scoped>\n",
       "    .dataframe tbody tr th:only-of-type {\n",
       "        vertical-align: middle;\n",
       "    }\n",
       "\n",
       "    .dataframe tbody tr th {\n",
       "        vertical-align: top;\n",
       "    }\n",
       "\n",
       "    .dataframe thead th {\n",
       "        text-align: right;\n",
       "    }\n",
       "</style>\n",
       "<table border=\"1\" class=\"dataframe\">\n",
       "  <thead>\n",
       "    <tr style=\"text-align: right;\">\n",
       "      <th></th>\n",
       "      <th>cmb_1</th>\n",
       "      <th>cmb_2</th>\n",
       "      <th>cmb_3</th>\n",
       "      <th>cmb_4</th>\n",
       "      <th>cmb_5</th>\n",
       "      <th>cmb_6</th>\n",
       "      <th>cmb_7</th>\n",
       "      <th>cmb_8</th>\n",
       "      <th>cmb_9</th>\n",
       "      <th>presc_index_value</th>\n",
       "      <th>sex</th>\n",
       "      <th>age_cat_2008</th>\n",
       "      <th>smoke</th>\n",
       "      <th>townsend_num</th>\n",
       "      <th>PC_event</th>\n",
       "      <th>antidepressants_binary</th>\n",
       "      <th>bmicat</th>\n",
       "      <th>sbpcat</th>\n",
       "      <th>RDDcat1</th>\n",
       "    </tr>\n",
       "  </thead>\n",
       "  <tbody>\n",
       "    <tr>\n",
       "      <th>count</th>\n",
       "      <td>32249.000000</td>\n",
       "      <td>32249.000000</td>\n",
       "      <td>32249.000000</td>\n",
       "      <td>32249.000000</td>\n",
       "      <td>32249.000000</td>\n",
       "      <td>32249.000000</td>\n",
       "      <td>32249.000000</td>\n",
       "      <td>32249.000000</td>\n",
       "      <td>32249.000000</td>\n",
       "      <td>32249.000000</td>\n",
       "      <td>32249.000000</td>\n",
       "      <td>32249.000000</td>\n",
       "      <td>32249.000000</td>\n",
       "      <td>32249.000000</td>\n",
       "      <td>32249.000000</td>\n",
       "      <td>32249.000000</td>\n",
       "      <td>32249.000000</td>\n",
       "      <td>32249.000000</td>\n",
       "      <td>32249.000000</td>\n",
       "    </tr>\n",
       "    <tr>\n",
       "      <th>mean</th>\n",
       "      <td>0.117771</td>\n",
       "      <td>0.245031</td>\n",
       "      <td>0.262055</td>\n",
       "      <td>0.105802</td>\n",
       "      <td>0.145958</td>\n",
       "      <td>0.122670</td>\n",
       "      <td>0.126919</td>\n",
       "      <td>0.171633</td>\n",
       "      <td>0.007411</td>\n",
       "      <td>2.859748</td>\n",
       "      <td>1.514280</td>\n",
       "      <td>3.022512</td>\n",
       "      <td>1.776861</td>\n",
       "      <td>2.770505</td>\n",
       "      <td>0.065645</td>\n",
       "      <td>0.695277</td>\n",
       "      <td>2.033737</td>\n",
       "      <td>1.444138</td>\n",
       "      <td>1.200037</td>\n",
       "    </tr>\n",
       "    <tr>\n",
       "      <th>std</th>\n",
       "      <td>0.322342</td>\n",
       "      <td>0.430112</td>\n",
       "      <td>0.439759</td>\n",
       "      <td>0.307588</td>\n",
       "      <td>0.353070</td>\n",
       "      <td>0.328064</td>\n",
       "      <td>0.332887</td>\n",
       "      <td>0.377067</td>\n",
       "      <td>0.085769</td>\n",
       "      <td>2.257699</td>\n",
       "      <td>0.499804</td>\n",
       "      <td>2.108179</td>\n",
       "      <td>0.796729</td>\n",
       "      <td>1.350856</td>\n",
       "      <td>0.247665</td>\n",
       "      <td>0.460297</td>\n",
       "      <td>0.791124</td>\n",
       "      <td>0.496877</td>\n",
       "      <td>0.538074</td>\n",
       "    </tr>\n",
       "    <tr>\n",
       "      <th>min</th>\n",
       "      <td>0.000000</td>\n",
       "      <td>0.000000</td>\n",
       "      <td>0.000000</td>\n",
       "      <td>0.000000</td>\n",
       "      <td>0.000000</td>\n",
       "      <td>0.000000</td>\n",
       "      <td>0.000000</td>\n",
       "      <td>0.000000</td>\n",
       "      <td>0.000000</td>\n",
       "      <td>0.000000</td>\n",
       "      <td>1.000000</td>\n",
       "      <td>1.000000</td>\n",
       "      <td>1.000000</td>\n",
       "      <td>1.000000</td>\n",
       "      <td>0.000000</td>\n",
       "      <td>0.000000</td>\n",
       "      <td>1.000000</td>\n",
       "      <td>1.000000</td>\n",
       "      <td>1.000000</td>\n",
       "    </tr>\n",
       "    <tr>\n",
       "      <th>25%</th>\n",
       "      <td>0.000000</td>\n",
       "      <td>0.000000</td>\n",
       "      <td>0.000000</td>\n",
       "      <td>0.000000</td>\n",
       "      <td>0.000000</td>\n",
       "      <td>0.000000</td>\n",
       "      <td>0.000000</td>\n",
       "      <td>0.000000</td>\n",
       "      <td>0.000000</td>\n",
       "      <td>1.000000</td>\n",
       "      <td>1.000000</td>\n",
       "      <td>1.000000</td>\n",
       "      <td>1.000000</td>\n",
       "      <td>2.000000</td>\n",
       "      <td>0.000000</td>\n",
       "      <td>0.000000</td>\n",
       "      <td>1.000000</td>\n",
       "      <td>1.000000</td>\n",
       "      <td>1.000000</td>\n",
       "    </tr>\n",
       "    <tr>\n",
       "      <th>50%</th>\n",
       "      <td>0.000000</td>\n",
       "      <td>0.000000</td>\n",
       "      <td>0.000000</td>\n",
       "      <td>0.000000</td>\n",
       "      <td>0.000000</td>\n",
       "      <td>0.000000</td>\n",
       "      <td>0.000000</td>\n",
       "      <td>0.000000</td>\n",
       "      <td>0.000000</td>\n",
       "      <td>2.000000</td>\n",
       "      <td>2.000000</td>\n",
       "      <td>2.000000</td>\n",
       "      <td>2.000000</td>\n",
       "      <td>3.000000</td>\n",
       "      <td>0.000000</td>\n",
       "      <td>1.000000</td>\n",
       "      <td>2.000000</td>\n",
       "      <td>1.000000</td>\n",
       "      <td>1.000000</td>\n",
       "    </tr>\n",
       "    <tr>\n",
       "      <th>75%</th>\n",
       "      <td>0.000000</td>\n",
       "      <td>0.000000</td>\n",
       "      <td>1.000000</td>\n",
       "      <td>0.000000</td>\n",
       "      <td>0.000000</td>\n",
       "      <td>0.000000</td>\n",
       "      <td>0.000000</td>\n",
       "      <td>0.000000</td>\n",
       "      <td>0.000000</td>\n",
       "      <td>4.000000</td>\n",
       "      <td>2.000000</td>\n",
       "      <td>5.000000</td>\n",
       "      <td>2.000000</td>\n",
       "      <td>4.000000</td>\n",
       "      <td>0.000000</td>\n",
       "      <td>1.000000</td>\n",
       "      <td>3.000000</td>\n",
       "      <td>2.000000</td>\n",
       "      <td>1.000000</td>\n",
       "    </tr>\n",
       "    <tr>\n",
       "      <th>max</th>\n",
       "      <td>1.000000</td>\n",
       "      <td>1.000000</td>\n",
       "      <td>1.000000</td>\n",
       "      <td>1.000000</td>\n",
       "      <td>1.000000</td>\n",
       "      <td>1.000000</td>\n",
       "      <td>1.000000</td>\n",
       "      <td>1.000000</td>\n",
       "      <td>1.000000</td>\n",
       "      <td>26.000000</td>\n",
       "      <td>2.000000</td>\n",
       "      <td>10.000000</td>\n",
       "      <td>3.000000</td>\n",
       "      <td>5.000000</td>\n",
       "      <td>1.000000</td>\n",
       "      <td>1.000000</td>\n",
       "      <td>3.000000</td>\n",
       "      <td>2.000000</td>\n",
       "      <td>3.000000</td>\n",
       "    </tr>\n",
       "  </tbody>\n",
       "</table>\n",
       "</div>"
      ],
      "text/plain": [
       "              cmb_1         cmb_2         cmb_3         cmb_4         cmb_5  \\\n",
       "count  32249.000000  32249.000000  32249.000000  32249.000000  32249.000000   \n",
       "mean       0.117771      0.245031      0.262055      0.105802      0.145958   \n",
       "std        0.322342      0.430112      0.439759      0.307588      0.353070   \n",
       "min        0.000000      0.000000      0.000000      0.000000      0.000000   \n",
       "25%        0.000000      0.000000      0.000000      0.000000      0.000000   \n",
       "50%        0.000000      0.000000      0.000000      0.000000      0.000000   \n",
       "75%        0.000000      0.000000      1.000000      0.000000      0.000000   \n",
       "max        1.000000      1.000000      1.000000      1.000000      1.000000   \n",
       "\n",
       "              cmb_6         cmb_7         cmb_8         cmb_9  \\\n",
       "count  32249.000000  32249.000000  32249.000000  32249.000000   \n",
       "mean       0.122670      0.126919      0.171633      0.007411   \n",
       "std        0.328064      0.332887      0.377067      0.085769   \n",
       "min        0.000000      0.000000      0.000000      0.000000   \n",
       "25%        0.000000      0.000000      0.000000      0.000000   \n",
       "50%        0.000000      0.000000      0.000000      0.000000   \n",
       "75%        0.000000      0.000000      0.000000      0.000000   \n",
       "max        1.000000      1.000000      1.000000      1.000000   \n",
       "\n",
       "       presc_index_value           sex  age_cat_2008         smoke  \\\n",
       "count       32249.000000  32249.000000  32249.000000  32249.000000   \n",
       "mean            2.859748      1.514280      3.022512      1.776861   \n",
       "std             2.257699      0.499804      2.108179      0.796729   \n",
       "min             0.000000      1.000000      1.000000      1.000000   \n",
       "25%             1.000000      1.000000      1.000000      1.000000   \n",
       "50%             2.000000      2.000000      2.000000      2.000000   \n",
       "75%             4.000000      2.000000      5.000000      2.000000   \n",
       "max            26.000000      2.000000     10.000000      3.000000   \n",
       "\n",
       "       townsend_num      PC_event  antidepressants_binary        bmicat  \\\n",
       "count  32249.000000  32249.000000            32249.000000  32249.000000   \n",
       "mean       2.770505      0.065645                0.695277      2.033737   \n",
       "std        1.350856      0.247665                0.460297      0.791124   \n",
       "min        1.000000      0.000000                0.000000      1.000000   \n",
       "25%        2.000000      0.000000                0.000000      1.000000   \n",
       "50%        3.000000      0.000000                1.000000      2.000000   \n",
       "75%        4.000000      0.000000                1.000000      3.000000   \n",
       "max        5.000000      1.000000                1.000000      3.000000   \n",
       "\n",
       "             sbpcat       RDDcat1  \n",
       "count  32249.000000  32249.000000  \n",
       "mean       1.444138      1.200037  \n",
       "std        0.496877      0.538074  \n",
       "min        1.000000      1.000000  \n",
       "25%        1.000000      1.000000  \n",
       "50%        1.000000      1.000000  \n",
       "75%        2.000000      1.000000  \n",
       "max        2.000000      3.000000  "
      ]
     },
     "execution_count": 5,
     "metadata": {},
     "output_type": "execute_result"
    }
   ],
   "source": [
    "df.iloc[:, :-1].describe()"
   ]
  },
  {
   "cell_type": "code",
   "execution_count": 6,
   "id": "5f399fbe",
   "metadata": {},
   "outputs": [
    {
     "data": {
      "text/plain": [
       "<AxesSubplot:xlabel='relapse_bin'>"
      ]
     },
     "execution_count": 6,
     "metadata": {},
     "output_type": "execute_result"
    },
    {
     "data": {
      "image/png": "[encoded data removed]",
      "text/plain": [
       "<Figure size 432x288 with 1 Axes>"
      ]
     },
     "metadata": {
      "needs_background": "light"
     },
     "output_type": "display_data"
    }
   ],
   "source": [
    "df.iloc[:, -1:].value_counts().plot.bar(color=['yellow', 'red'])"
   ]
  },
  {
   "cell_type": "code",
   "execution_count": 7,
   "id": "9833528f",
   "metadata": {},
   "outputs": [],
   "source": [
    "y = df.iloc[:, -1:]"
   ]
  },
  {
   "cell_type": "code",
   "execution_count": 8,
   "id": "ed4fedb1",
   "metadata": {},
   "outputs": [],
   "source": [
    "X = df.iloc[:,:-1]"
   ]
  },
  {
   "cell_type": "code",
   "execution_count": 9,
   "id": "890b70b0",
   "metadata": {},
   "outputs": [
    {
     "data": {
      "text/html": [
       "<div>\n",
       "<style scoped>\n",
       "    .dataframe tbody tr th:only-of-type {\n",
       "        vertical-align: middle;\n",
       "    }\n",
       "\n",
       "    .dataframe tbody tr th {\n",
       "        vertical-align: top;\n",
       "    }\n",
       "\n",
       "    .dataframe thead th {\n",
       "        text-align: right;\n",
       "    }\n",
       "</style>\n",
       "<table border=\"1\" class=\"dataframe\">\n",
       "  <thead>\n",
       "    <tr style=\"text-align: right;\">\n",
       "      <th></th>\n",
       "      <th>cmb_1</th>\n",
       "      <th>cmb_2</th>\n",
       "      <th>cmb_3</th>\n",
       "      <th>cmb_4</th>\n",
       "      <th>cmb_5</th>\n",
       "      <th>cmb_6</th>\n",
       "      <th>cmb_7</th>\n",
       "      <th>cmb_8</th>\n",
       "      <th>cmb_9</th>\n",
       "      <th>presc_index_value</th>\n",
       "      <th>sex</th>\n",
       "      <th>age_cat_2008</th>\n",
       "      <th>smoke</th>\n",
       "      <th>townsend_num</th>\n",
       "      <th>PC_event</th>\n",
       "      <th>antidepressants_binary</th>\n",
       "      <th>bmicat</th>\n",
       "      <th>sbpcat</th>\n",
       "      <th>RDDcat1</th>\n",
       "    </tr>\n",
       "  </thead>\n",
       "  <tbody>\n",
       "    <tr>\n",
       "      <th>0</th>\n",
       "      <td>0</td>\n",
       "      <td>0</td>\n",
       "      <td>1</td>\n",
       "      <td>0</td>\n",
       "      <td>0</td>\n",
       "      <td>0</td>\n",
       "      <td>0</td>\n",
       "      <td>0</td>\n",
       "      <td>0</td>\n",
       "      <td>1</td>\n",
       "      <td>2</td>\n",
       "      <td>1</td>\n",
       "      <td>1</td>\n",
       "      <td>2</td>\n",
       "      <td>0</td>\n",
       "      <td>1</td>\n",
       "      <td>3</td>\n",
       "      <td>1</td>\n",
       "      <td>3</td>\n",
       "    </tr>\n",
       "    <tr>\n",
       "      <th>1</th>\n",
       "      <td>0</td>\n",
       "      <td>0</td>\n",
       "      <td>1</td>\n",
       "      <td>0</td>\n",
       "      <td>0</td>\n",
       "      <td>0</td>\n",
       "      <td>0</td>\n",
       "      <td>1</td>\n",
       "      <td>0</td>\n",
       "      <td>4</td>\n",
       "      <td>2</td>\n",
       "      <td>1</td>\n",
       "      <td>1</td>\n",
       "      <td>4</td>\n",
       "      <td>0</td>\n",
       "      <td>1</td>\n",
       "      <td>3</td>\n",
       "      <td>2</td>\n",
       "      <td>3</td>\n",
       "    </tr>\n",
       "    <tr>\n",
       "      <th>2</th>\n",
       "      <td>0</td>\n",
       "      <td>0</td>\n",
       "      <td>0</td>\n",
       "      <td>1</td>\n",
       "      <td>0</td>\n",
       "      <td>1</td>\n",
       "      <td>1</td>\n",
       "      <td>1</td>\n",
       "      <td>0</td>\n",
       "      <td>5</td>\n",
       "      <td>1</td>\n",
       "      <td>1</td>\n",
       "      <td>1</td>\n",
       "      <td>3</td>\n",
       "      <td>0</td>\n",
       "      <td>1</td>\n",
       "      <td>2</td>\n",
       "      <td>1</td>\n",
       "      <td>2</td>\n",
       "    </tr>\n",
       "    <tr>\n",
       "      <th>3</th>\n",
       "      <td>0</td>\n",
       "      <td>0</td>\n",
       "      <td>0</td>\n",
       "      <td>0</td>\n",
       "      <td>0</td>\n",
       "      <td>0</td>\n",
       "      <td>1</td>\n",
       "      <td>0</td>\n",
       "      <td>0</td>\n",
       "      <td>3</td>\n",
       "      <td>2</td>\n",
       "      <td>3</td>\n",
       "      <td>1</td>\n",
       "      <td>4</td>\n",
       "      <td>0</td>\n",
       "      <td>1</td>\n",
       "      <td>1</td>\n",
       "      <td>2</td>\n",
       "      <td>1</td>\n",
       "    </tr>\n",
       "    <tr>\n",
       "      <th>4</th>\n",
       "      <td>0</td>\n",
       "      <td>0</td>\n",
       "      <td>0</td>\n",
       "      <td>0</td>\n",
       "      <td>1</td>\n",
       "      <td>0</td>\n",
       "      <td>0</td>\n",
       "      <td>0</td>\n",
       "      <td>0</td>\n",
       "      <td>1</td>\n",
       "      <td>2</td>\n",
       "      <td>1</td>\n",
       "      <td>1</td>\n",
       "      <td>3</td>\n",
       "      <td>0</td>\n",
       "      <td>1</td>\n",
       "      <td>3</td>\n",
       "      <td>1</td>\n",
       "      <td>1</td>\n",
       "    </tr>\n",
       "  </tbody>\n",
       "</table>\n",
       "</div>"
      ],
      "text/plain": [
       "   cmb_1  cmb_2  cmb_3  cmb_4  cmb_5  cmb_6  cmb_7  cmb_8  cmb_9  \\\n",
       "0      0      0      1      0      0      0      0      0      0   \n",
       "1      0      0      1      0      0      0      0      1      0   \n",
       "2      0      0      0      1      0      1      1      1      0   \n",
       "3      0      0      0      0      0      0      1      0      0   \n",
       "4      0      0      0      0      1      0      0      0      0   \n",
       "\n",
       "   presc_index_value  sex  age_cat_2008  smoke  townsend_num  PC_event  \\\n",
       "0                  1    2             1      1             2         0   \n",
       "1                  4    2             1      1             4         0   \n",
       "2                  5    1             1      1             3         0   \n",
       "3                  3    2             3      1             4         0   \n",
       "4                  1    2             1      1             3         0   \n",
       "\n",
       "   antidepressants_binary  bmicat  sbpcat  RDDcat1  \n",
       "0                       1       3       1        3  \n",
       "1                       1       3       2        3  \n",
       "2                       1       2       1        2  \n",
       "3                       1       1       2        1  \n",
       "4                       1       3       1        1  "
      ]
     },
     "execution_count": 9,
     "metadata": {},
     "output_type": "execute_result"
    }
   ],
   "source": [
    "X.head(5)"
   ]
  },
  {
   "cell_type": "code",
   "execution_count": 10,
   "id": "169a7c42",
   "metadata": {},
   "outputs": [
    {
     "data": {
      "text/plain": [
       "(array([0, 1], dtype=int64), array([25296,  6953], dtype=int64))"
      ]
     },
     "execution_count": 10,
     "metadata": {},
     "output_type": "execute_result"
    }
   ],
   "source": [
    "np.unique(y, return_counts=True)"
   ]
  },
  {
   "cell_type": "code",
   "execution_count": 11,
   "id": "2281c5a1",
   "metadata": {},
   "outputs": [],
   "source": [
    "X_train, X_test, y_train, y_test = train_test_split(X, y, test_size=0.2, stratify=y, random_state = 42)"
   ]
  },
  {
   "cell_type": "code",
   "execution_count": 12,
   "id": "21b6b5bf",
   "metadata": {},
   "outputs": [
    {
     "name": "stdout",
     "output_type": "stream",
     "text": [
      "Training dataset shape, X_train: (25799, 19), y_train: (25799, 1)\n"
     ]
    }
   ],
   "source": [
    "print(f\"Training dataset shape, X_train: {X_train.shape}, y_train: {y_train.shape}\")"
   ]
  },
  {
   "cell_type": "code",
   "execution_count": 13,
   "id": "c851cbc7",
   "metadata": {},
   "outputs": [
    {
     "name": "stdout",
     "output_type": "stream",
     "text": [
      "Testing dataset shape, X_test: (6450, 19), y_test: (6450, 1)\n"
     ]
    }
   ],
   "source": [
    "print(f\"Testing dataset shape, X_test: {X_test.shape}, y_test: {y_test.shape}\")"
   ]
  },
  {
   "cell_type": "code",
   "execution_count": 14,
   "id": "6012bb68",
   "metadata": {},
   "outputs": [],
   "source": [
    "# L2 penalty to shrink coefficients without removing any features from the model\n",
    "penalty= 'l2'\n",
    "# classification problem is multinomial\n",
    "multi_class = 'multinomial'\n",
    "# Use lbfgs for L2 penalty and multinomial classes\n",
    "solver = 'lbfgs'\n",
    "# Max iteration = 1000\n",
    "max_iter = 1000"
   ]
  },
  {
   "cell_type": "code",
   "execution_count": 15,
   "id": "84dbbd81",
   "metadata": {},
   "outputs": [],
   "source": [
    "l2_model = LogisticRegression(random_state=42, penalty=penalty, multi_class=multi_class, solver=solver, max_iter=max_iter)"
   ]
  },
  {
   "cell_type": "code",
   "execution_count": 16,
   "id": "b1abf9ff",
   "metadata": {},
   "outputs": [
    {
     "name": "stderr",
     "output_type": "stream",
     "text": [
      "C:\\Program Files\\Anaconda3\\lib\\site-packages\\sklearn\\utils\\validation.py:993: DataConversionWarning: A column-vector y was passed when a 1d array was expected. Please change the shape of y to (n_samples, ), for example using ravel().\n",
      "  y = column_or_1d(y, warn=True)\n"
     ]
    },
    {
     "data": {
      "text/plain": [
       "LogisticRegression(max_iter=1000, multi_class='multinomial', random_state=42)"
      ]
     },
     "execution_count": 16,
     "metadata": {},
     "output_type": "execute_result"
    }
   ],
   "source": [
    "l2_model.fit(X_train, y_train)"
   ]
  },
  {
   "cell_type": "code",
   "execution_count": 17,
   "id": "fa097530",
   "metadata": {},
   "outputs": [],
   "source": [
    "l2_preds = l2_model.predict(X_test)"
   ]
  },
  {
   "cell_type": "code",
   "execution_count": 18,
   "id": "4e8558bc",
   "metadata": {},
   "outputs": [],
   "source": [
    "def evaluate_metrics(yt, yp):\n",
    "    results_pos = {}\n",
    "    results_pos['accuracy'] = accuracy_score(yt, yp)\n",
    "    precision, recall, f_beta, _ = precision_recall_fscore_support(yt, yp)\n",
    "    results_pos['recall'] = recall\n",
    "    results_pos['precision'] = precision\n",
    "    results_pos['f1score'] = f_beta\n",
    "    return results_pos"
   ]
  },
  {
   "cell_type": "code",
   "execution_count": 19,
   "id": "369ee386",
   "metadata": {},
   "outputs": [
    {
     "data": {
      "text/plain": [
       "{'accuracy': 0.9212403100775194,\n",
       " 'recall': array([1.        , 0.63479511]),\n",
       " 'precision': array([0.90874798, 1.        ]),\n",
       " 'f1score': array([0.95219273, 0.7766051 ])}"
      ]
     },
     "execution_count": 19,
     "metadata": {},
     "output_type": "execute_result"
    }
   ],
   "source": [
    "evaluate_metrics(y_test, l2_preds)"
   ]
  },
  {
   "cell_type": "code",
   "execution_count": 20,
   "id": "ddb63a64-9437-48fb-92f7-d3447a469658",
   "metadata": {},
   "outputs": [],
   "source": [
    "l2_pred_lre = l2_model.predict(X_test)"
   ]
  },
  {
   "cell_type": "code",
   "execution_count": 21,
   "id": "dd9b28e0-bb50-48bc-ba72-b809456603c9",
   "metadata": {},
   "outputs": [],
   "source": [
    "l2_prob_lre = l2_model.predict_proba(X_test)"
   ]
  },
  {
   "cell_type": "code",
   "execution_count": 22,
   "id": "50077ce4-9ce7-4bc8-8e5c-ae9bf13909b5",
   "metadata": {},
   "outputs": [
    {
     "data": {
      "text/plain": [
       "0.8496942405993176"
      ]
     },
     "execution_count": 22,
     "metadata": {},
     "output_type": "execute_result"
    }
   ],
   "source": [
    "auc = roc_auc_score(label_binarize(y_test,classes=[0,1]),\n",
    "                    l2_prob_lre[:, 1],average='weighted')\n",
    "auc"
   ]
  },
  {
   "cell_type": "code",
   "execution_count": 23,
   "id": "f32bd38c",
   "metadata": {},
   "outputs": [
    {
     "data": {
      "image/png": "[encoded data removed]",
      "text/plain": [
       "<Figure size 432x288 with 1 Axes>"
      ]
     },
     "metadata": {
      "needs_background": "light"
     },
     "output_type": "display_data"
    }
   ],
   "source": [
    "from sklearn.calibration import calibration_curve\n",
    "\n",
    "y_prob = l2_model.predict_proba(X_test)[:, 1]\n",
    "true_prob, pred_prob = calibration_curve(y_test, y_prob, n_bins=10)\n",
    "\n",
    "plt.plot([0, 1], [0, 1], linestyle='--')\n",
    "plt.plot(pred_prob, true_prob, marker='.')\n",
    "plt.xlabel('Predicted Probability of Positive Class')\n",
    "plt.ylabel('True Probability of Positive Class')\n",
    "plt.title('Calibration Curve for L2 Model')\n",
    "plt.show()\n"
   ]
  },
  {
   "cell_type": "code",
   "execution_count": 23,
   "id": "8387e93a",
   "metadata": {},
   "outputs": [],
   "source": [
    "# L1 penalty to shrink coefficients without removing any features from the model\n",
    "penalty= 'l1'\n",
    "# classification problem is multinomial\n",
    "multi_class = 'multinomial'\n",
    "# Use saga for L1 penalty and multinomial classes\n",
    "solver = 'saga'\n",
    "# Max iteration = 1000\n",
    "max_iter = 1000"
   ]
  },
  {
   "cell_type": "code",
   "execution_count": 24,
   "id": "919d2477",
   "metadata": {},
   "outputs": [],
   "source": [
    "l1_model = LogisticRegression(random_state=42, penalty=penalty, multi_class=multi_class, solver=solver, max_iter = 1000)"
   ]
  },
  {
   "cell_type": "code",
   "execution_count": 25,
   "id": "b253a41a",
   "metadata": {},
   "outputs": [
    {
     "name": "stderr",
     "output_type": "stream",
     "text": [
      "C:\\Program Files\\Anaconda3\\lib\\site-packages\\sklearn\\utils\\validation.py:993: DataConversionWarning: A column-vector y was passed when a 1d array was expected. Please change the shape of y to (n_samples, ), for example using ravel().\n",
      "  y = column_or_1d(y, warn=True)\n"
     ]
    },
    {
     "data": {
      "text/plain": [
       "LogisticRegression(max_iter=1000, multi_class='multinomial', penalty='l1',\n",
       "                   random_state=42, solver='saga')"
      ]
     },
     "execution_count": 25,
     "metadata": {},
     "output_type": "execute_result"
    }
   ],
   "source": [
    "l1_model.fit(X_train, y_train)"
   ]
  },
  {
   "cell_type": "code",
   "execution_count": 26,
   "id": "4d32ff94",
   "metadata": {},
   "outputs": [],
   "source": [
    "l1_preds = l1_model.predict(X_test)"
   ]
  },
  {
   "cell_type": "code",
   "execution_count": 27,
   "id": "94c238ea",
   "metadata": {},
   "outputs": [
    {
     "data": {
      "text/plain": [
       "{'accuracy': 0.9212403100775194,\n",
       " 'recall': array([1.        , 0.63479511]),\n",
       " 'precision': array([0.90874798, 1.        ]),\n",
       " 'f1score': array([0.95219273, 0.7766051 ])}"
      ]
     },
     "execution_count": 27,
     "metadata": {},
     "output_type": "execute_result"
    }
   ],
   "source": [
    "evaluate_metrics(y_test, l1_preds)"
   ]
  },
  {
   "cell_type": "code",
   "execution_count": 28,
   "id": "60efe792-49ed-4718-9277-f590ea069501",
   "metadata": {},
   "outputs": [],
   "source": [
    "l1_pred_lre = l1_model.predict(X_test)"
   ]
  },
  {
   "cell_type": "code",
   "execution_count": 29,
   "id": "971b3f16-9675-411c-bd52-1d0f5a7538de",
   "metadata": {},
   "outputs": [],
   "source": [
    "l1_prob_lre = l1_model.predict_proba(X_test)"
   ]
  },
  {
   "cell_type": "code",
   "execution_count": 30,
   "id": "64170a61-d2f1-4317-b770-0e8cd58d4d15",
   "metadata": {},
   "outputs": [
    {
     "data": {
      "text/plain": [
       "0.8495777858651095"
      ]
     },
     "execution_count": 30,
     "metadata": {},
     "output_type": "execute_result"
    }
   ],
   "source": [
    "auc = roc_auc_score(label_binarize(y_test,classes=[0,1]),\n",
    "                    l1_prob_lre[:, 1],average='weighted')\n",
    "auc"
   ]
  },
  {
   "cell_type": "code",
   "execution_count": 32,
   "id": "597fbfe2",
   "metadata": {},
   "outputs": [
    {
     "data": {
      "image/png": "[encoded data removed]",
      "text/plain": [
       "<Figure size 432x288 with 1 Axes>"
      ]
     },
     "metadata": {
      "needs_background": "light"
     },
     "output_type": "display_data"
    }
   ],
   "source": [
    "from sklearn.calibration import calibration_curve\n",
    "\n",
    "y_prob = l1_model.predict_proba(X_test)[:, 1]\n",
    "true_prob, pred_prob = calibration_curve(y_test, y_prob, n_bins=10)\n",
    "\n",
    "plt.plot([0, 1], [0, 1], linestyle='--')\n",
    "plt.plot(pred_prob, true_prob, marker='.')\n",
    "plt.xlabel('Predicted Probability of Positive Class')\n",
    "plt.ylabel('True Probability of Positive Class')\n",
    "plt.title('Calibration Curve for L1 Model')\n",
    "plt.show()"
   ]
  },
  {
   "cell_type": "code",
   "execution_count": 31,
   "id": "c0271ee6",
   "metadata": {},
   "outputs": [],
   "source": [
    "%matplotlib inline"
   ]
  },
  {
   "cell_type": "code",
   "execution_count": 32,
   "id": "3c59256a",
   "metadata": {},
   "outputs": [],
   "source": [
    "LR1 = LogisticRegression(C=5, penalty='elasticnet', solver='saga')"
   ]
  },
  {
   "cell_type": "code",
   "execution_count": 33,
   "id": "18d82b80",
   "metadata": {},
   "outputs": [
    {
     "data": {
      "text/plain": [
       "LogisticRegression(C=5, l1_ratio=0.5, penalty='elasticnet', solver='saga',\n",
       "                   tol=0.3)"
      ]
     },
     "execution_count": 33,
     "metadata": {},
     "output_type": "execute_result"
    }
   ],
   "source": [
    "LR1.set_params(l1_ratio=0.5, tol=0.3)"
   ]
  },
  {
   "cell_type": "code",
   "execution_count": 34,
   "id": "cea383be",
   "metadata": {},
   "outputs": [
    {
     "name": "stderr",
     "output_type": "stream",
     "text": [
      "C:\\Program Files\\Anaconda3\\lib\\site-packages\\sklearn\\utils\\validation.py:993: DataConversionWarning: A column-vector y was passed when a 1d array was expected. Please change the shape of y to (n_samples, ), for example using ravel().\n",
      "  y = column_or_1d(y, warn=True)\n"
     ]
    },
    {
     "data": {
      "text/plain": [
       "LogisticRegression(C=5, l1_ratio=0.5, penalty='elasticnet', solver='saga',\n",
       "                   tol=0.3)"
      ]
     },
     "execution_count": 34,
     "metadata": {},
     "output_type": "execute_result"
    }
   ],
   "source": [
    "LR1.fit(X_train, y_train)"
   ]
  },
  {
   "cell_type": "code",
   "execution_count": 35,
   "id": "683ae17e",
   "metadata": {},
   "outputs": [],
   "source": [
    "y_pred_lre = LR1.predict(X_test)"
   ]
  },
  {
   "cell_type": "code",
   "execution_count": 36,
   "id": "cf96a4df",
   "metadata": {},
   "outputs": [],
   "source": [
    "y_prob_lre = LR1.predict_proba(X_test)"
   ]
  },
  {
   "cell_type": "code",
   "execution_count": 37,
   "id": "a2d3acc2",
   "metadata": {},
   "outputs": [
    {
     "data": {
      "text/plain": [
       "precision    0.928299\n",
       "recall       0.921085\n",
       "fscore       0.914139\n",
       "accuracy     0.921085\n",
       "auc          0.834316\n",
       "dtype: float64"
      ]
     },
     "execution_count": 37,
     "metadata": {},
     "output_type": "execute_result"
    }
   ],
   "source": [
    "precision,recall,fscore, _ = precision_recall_fscore_support(y_test,y_pred_lre,average='weighted')\n",
    "accuracy = accuracy_score(y_test,y_pred_lre)\n",
    "auc = roc_auc_score(label_binarize(y_test,classes=[0,1]),\n",
    "                    y_prob_lre[:, 1],average='weighted')\n",
    "pd.Series({'precision':precision,'recall':recall,'fscore':fscore,'accuracy':accuracy,'auc':auc})"
   ]
  },
  {
   "cell_type": "code",
   "execution_count": 40,
   "id": "427adb02",
   "metadata": {},
   "outputs": [
    {
     "data": {
      "image/png": "[encoded data removed]",
      "text/plain": [
       "<Figure size 432x288 with 1 Axes>"
      ]
     },
     "metadata": {
      "needs_background": "light"
     },
     "output_type": "display_data"
    }
   ],
   "source": [
    "from sklearn.calibration import calibration_curve\n",
    "\n",
    "y_prob = LR1.predict_proba(X_test)[:, 1]\n",
    "true_prob, pred_prob = calibration_curve(y_test, y_prob, n_bins=10)\n",
    "\n",
    "plt.plot([0, 1], [0, 1], linestyle='--')\n",
    "plt.plot(pred_prob, true_prob, marker='.')\n",
    "plt.xlabel('Predicted Probability of Positive Class')\n",
    "plt.ylabel('True Probability of Positive Class')\n",
    "plt.title('Calibration Curve for Elastic Net Model')\n",
    "plt.show()"
   ]
  },
  {
   "cell_type": "code",
   "execution_count": 41,
   "id": "97995f38-ac09-4ebb-889a-f88a04b1f6ed",
   "metadata": {},
   "outputs": [
    {
     "data": {
      "image/png": "[encoded data removed]",
      "text/plain": [
       "<Figure size 432x288 with 1 Axes>"
      ]
     },
     "metadata": {
      "needs_background": "light"
     },
     "output_type": "display_data"
    }
   ],
   "source": [
    "import matplotlib.pyplot as plt\n",
    "import numpy as np\n",
    "\n",
    "regularization = [\"l1\", \"l2\", \"Elastic Net\"]\n",
    "accuracy = [0.92, 0.92, 0.92]\n",
    "precision = [0.91, 0.91, 0.93]\n",
    "c_index = [0.85, 0.85, 0.83]\n",
    "\n",
    "# Create a figure and an axis\n",
    "fig, ax = plt.subplots()\n",
    "\n",
    "# Set the width of each bar\n",
    "width = 0.2\n",
    "\n",
    "# Plot the bars for each metric\n",
    "ax.bar([i - width for i in range(len(regularization))], accuracy, width=width, label=\"Accuracy\")\n",
    "ax.bar([i for i in range(len(regularization))], precision, width=width, label=\"Precision\")\n",
    "ax.bar([i + width for i in range(len(regularization))], c_index, width=width, label=\"C-index\")\n",
    "\n",
    "# Add some labels and a title\n",
    "ax.set_xlabel(\"Regularization\")\n",
    "ax.set_ylabel(\"Percent\")\n",
    "ax.set_title(\"Regularization performance\")\n",
    "\n",
    "# Move the legend to the bottom of the graph\n",
    "ax.legend(loc='upper center', bbox_to_anchor=(0.5, -0.2), ncol=3)\n",
    "\n",
    "# Set the tick locations in addition to the tick labels\n",
    "ax.set_xticks(np.arange(len(regularization)))\n",
    "ax.set_xticklabels(regularization)\n",
    "\n",
    "# Show the plot\n",
    "plt.show()\n"
   ]
  },
  {
   "cell_type": "code",
   "execution_count": 38,
   "id": "c1f464ce",
   "metadata": {},
   "outputs": [
    {
     "data": {
      "text/plain": [
       "array([[-9.27268579e-03,  4.92774497e-02,  2.27805090e-02,\n",
       "         1.76736901e-01,  1.57136761e-01,  8.60691140e-02,\n",
       "         4.68709576e-02,  0.00000000e+00, -5.85248677e-02,\n",
       "        -2.66883400e-02, -2.02590739e-03, -5.31737902e-02,\n",
       "         3.16688158e-02, -3.28634369e-02, -1.84012146e-01,\n",
       "         1.15409338e-01,  1.51185285e-02, -1.76125545e-03,\n",
       "         4.73977208e+00]])"
      ]
     },
     "execution_count": 38,
     "metadata": {},
     "output_type": "execute_result"
    }
   ],
   "source": [
    "l1_model.coef_"
   ]
  },
  {
   "cell_type": "code",
   "execution_count": 39,
   "id": "c311b999",
   "metadata": {},
   "outputs": [],
   "source": [
    "def get_feature_coefs(regression_model, label_index, columns):\n",
    "    coef_dict = {}\n",
    "    for coef, feat in zip(regression_model.coef_[label_index, :], columns):\n",
    "        if abs(coef) >= 0.01:\n",
    "            coef_dict[feat] = coef\n",
    "    # Sort coefficients\n",
    "    coef_dict = {k: v for k, v in sorted(coef_dict.items(), key=lambda item: item[1])}\n",
    "    return coef_dict\n",
    "\n",
    "# Generate bar colors based on if value is negative or positive\n",
    "def get_bar_colors(values):\n",
    "    color_vals = []\n",
    "    for val in values:\n",
    "        if val <= 0:\n",
    "            color_vals.append('r')\n",
    "        else:\n",
    "            color_vals.append('g')\n",
    "    return color_vals\n",
    "\n",
    "# Visualize coefficients\n",
    "def visualize_coefs(coef_dict):\n",
    "    features = list(coef_dict.keys())\n",
    "    values = list(coef_dict.values())\n",
    "    y_pos = np.arange(len(features))\n",
    "    color_vals = get_bar_colors(values)\n",
    "    plt.rcdefaults()\n",
    "    fig, ax = plt.subplots()\n",
    "    ax.barh(y_pos, values, align='center', color=color_vals)\n",
    "    ax.set_yticks(y_pos)\n",
    "    ax.set_yticklabels(features)\n",
    "    # labels read top-to-bottom\n",
    "    ax.invert_yaxis()  \n",
    "    ax.set_xlabel('Feature Coefficients')\n",
    "    ax.set_title('')\n",
    "    plt.show()"
   ]
  },
  {
   "cell_type": "code",
   "execution_count": 40,
   "id": "0b920133",
   "metadata": {},
   "outputs": [],
   "source": [
    "feature_cols = list(df.iloc[:, :-1].columns)"
   ]
  },
  {
   "cell_type": "code",
   "execution_count": 41,
   "id": "d35ca19a",
   "metadata": {},
   "outputs": [
    {
     "data": {
      "text/plain": [
       "array([[-9.27268579e-03,  4.92774497e-02,  2.27805090e-02,\n",
       "         1.76736901e-01,  1.57136761e-01,  8.60691140e-02,\n",
       "         4.68709576e-02,  0.00000000e+00, -5.85248677e-02,\n",
       "        -2.66883400e-02, -2.02590739e-03, -5.31737902e-02,\n",
       "         3.16688158e-02, -3.28634369e-02, -1.84012146e-01,\n",
       "         1.15409338e-01,  1.51185285e-02, -1.76125545e-03,\n",
       "         4.73977208e+00]])"
      ]
     },
     "execution_count": 41,
     "metadata": {},
     "output_type": "execute_result"
    }
   ],
   "source": [
    "l1_model.coef_"
   ]
  },
  {
   "cell_type": "code",
   "execution_count": 47,
   "id": "fc81ef1e",
   "metadata": {},
   "outputs": [
    {
     "data": {
      "image/png": "[encoded data removed]",
      "text/plain": [
       "<Figure size 640x480 with 1 Axes>"
      ]
     },
     "metadata": {},
     "output_type": "display_data"
    }
   ],
   "source": [
    "coef_dict1 = get_feature_coefs(l1_model, 0, feature_cols)\n",
    "visualize_coefs(coef_dict1)"
   ]
  },
  {
   "cell_type": "code",
   "execution_count": 42,
   "id": "9642c3de",
   "metadata": {},
   "outputs": [
    {
     "data": {
      "text/plain": [
       "array([[-1.13124295e-02,  5.06685275e-02,  2.43846123e-02,\n",
       "         1.78783272e-01,  1.58353470e-01,  8.80667903e-02,\n",
       "         4.88052525e-02,  1.02292573e-03, -1.01921451e-01,\n",
       "        -2.66879013e-02, -2.23836199e-03, -5.30926249e-02,\n",
       "         3.20183194e-02, -3.30464273e-02, -1.87899011e-01,\n",
       "         1.16529416e-01,  1.58128353e-02, -2.58822102e-03,\n",
       "         4.18851927e+00]])"
      ]
     },
     "execution_count": 42,
     "metadata": {},
     "output_type": "execute_result"
    }
   ],
   "source": [
    "l2_model.coef_"
   ]
  },
  {
   "cell_type": "code",
   "execution_count": 48,
   "id": "d2a0b93f",
   "metadata": {},
   "outputs": [
    {
     "data": {
      "image/png": "[encoded data removed]",
      "text/plain": [
       "<Figure size 640x480 with 1 Axes>"
      ]
     },
     "metadata": {},
     "output_type": "display_data"
    }
   ],
   "source": [
    "coef_dict2 = get_feature_coefs(l2_model, 0, feature_cols)\n",
    "visualize_coefs(coef_dict2)"
   ]
  },
  {
   "cell_type": "code",
   "execution_count": 43,
   "id": "2198b0cb",
   "metadata": {},
   "outputs": [
    {
     "data": {
      "text/plain": [
       "array([[ 3.87249695e-03,  9.18130983e-02,  1.27022147e-01,\n",
       "         3.34864853e-01,  2.18182211e-01,  5.24139363e-02,\n",
       "         2.49307451e-01, -3.38033756e-02, -1.85233825e-02,\n",
       "        -1.02938890e-01, -7.18284836e-01, -1.48618397e-01,\n",
       "        -2.93662992e-01, -1.67682683e-01, -1.31272545e-01,\n",
       "        -7.16969934e-02, -3.00975691e-01, -5.23692737e-01,\n",
       "         4.10595191e+00]])"
      ]
     },
     "execution_count": 43,
     "metadata": {},
     "output_type": "execute_result"
    }
   ],
   "source": [
    "LR1.coef_"
   ]
  },
  {
   "cell_type": "code",
   "execution_count": 49,
   "id": "d9b35e0a",
   "metadata": {},
   "outputs": [
    {
     "data": {
      "image/png": "[encoded data removed]",
      "text/plain": [
       "<Figure size 640x480 with 1 Axes>"
      ]
     },
     "metadata": {},
     "output_type": "display_data"
    }
   ],
   "source": [
    "coef_dict3 = get_feature_coefs(LR1, 0, feature_cols)\n",
    "visualize_coefs(coef_dict3)"
   ]
  },
  {
   "cell_type": "code",
   "execution_count": null,
   "id": "4ba8c60f",
   "metadata": {},
   "outputs": [],
   "source": []
  }
 ],
 "metadata": {
  "kernelspec": {
   "display_name": "Python 3 (ipykernel)",
   "language": "python",
   "name": "python3"
  },
  "language_info": {
   "codemirror_mode": {
    "name": "ipython",
    "version": 3
   },
   "file_extension": ".py",
   "mimetype": "text/x-python",
   "name": "python",
   "nbconvert_exporter": "python",
   "pygments_lexer": "ipython3",
   "version": "3.9.12"
  }
 },
 "nbformat": 4,
 "nbformat_minor": 5
}
